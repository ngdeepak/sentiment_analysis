{
 "cells": [
  {
   "cell_type": "code",
   "execution_count": 45,
   "metadata": {},
   "outputs": [],
   "source": [
    "import numpy as np\n",
    "import pandas as pd\n",
    "import nltk\n",
    "\n",
    "import tensorflow as tf\n"
   ]
  },
  {
   "cell_type": "code",
   "execution_count": 5,
   "metadata": {},
   "outputs": [],
   "source": [
    "Reviews = pd.read_csv('train_pwd_required/train.csv', sep=\",\", encoding=\"utf-8\", quotechar='\"')"
   ]
  },
  {
   "cell_type": "code",
   "execution_count": 6,
   "metadata": {},
   "outputs": [],
   "source": [
    "Reviews['CleanReview']=Reviews['ReviewText'].astype(str)\n",
    "Reviews['CleanReview']=Reviews['CleanReview'].str.replace('[^a-zA-Z\\s]','').str.lower()"
   ]
  },
  {
   "cell_type": "code",
   "execution_count": 7,
   "metadata": {},
   "outputs": [],
   "source": [
    "#function to return words count\n",
    "def review_words(review_row):\n",
    "    words = review_row.split()\n",
    "    return( len(words))\n"
   ]
  },
  {
   "cell_type": "code",
   "execution_count": null,
   "metadata": {},
   "outputs": [],
   "source": []
  },
  {
   "cell_type": "code",
   "execution_count": 8,
   "metadata": {},
   "outputs": [],
   "source": [
    "#Store review words count in a separate column\n",
    "Reviews['WordCount']=Reviews['CleanReview'].apply(lambda x: review_words(x))"
   ]
  },
  {
   "cell_type": "code",
   "execution_count": 9,
   "metadata": {},
   "outputs": [
    {
     "name": "stdout",
     "output_type": "stream",
     "text": [
      "Minimum-length reviews: 0\n",
      "Maximum review length: 5986\n"
     ]
    }
   ],
   "source": [
    "##reviews max and min length\n",
    "print(\"Minimum-length reviews: {}\".format(min(Reviews['WordCount'])))\n",
    "print(\"Maximum review length: {}\".format(max(Reviews['WordCount'])))"
   ]
  },
  {
   "cell_type": "code",
   "execution_count": 10,
   "metadata": {},
   "outputs": [],
   "source": [
    "n_steps=100\n",
    "#keep reviews with non zero max length 100 words \n",
    "ReviewsN=Reviews.loc[Reviews['WordCount'] <= n_steps]\n",
    "ReviewsN=ReviewsN.loc[Reviews['WordCount'] > 0]"
   ]
  },
  {
   "cell_type": "code",
   "execution_count": 11,
   "metadata": {},
   "outputs": [
    {
     "name": "stdout",
     "output_type": "stream",
     "text": [
      "        ReviewText  CleanReview  WordCount\n",
      "Rating                                    \n",
      "1            66247        66331      66331\n",
      "2            44299        44366      44366\n",
      "3            79714        79794      79794\n",
      "4           200354       200600     200600\n",
      "5           721318       721900     721900\n"
     ]
    }
   ],
   "source": [
    "print(ReviewsN.groupby('Rating').count())"
   ]
  },
  {
   "cell_type": "code",
   "execution_count": 49,
   "metadata": {},
   "outputs": [
    {
     "name": "stdout",
     "output_type": "stream",
     "text": [
      "20000\n"
     ]
    }
   ],
   "source": [
    "#Random Selection of specific reviews by group\n",
    "ReviewsNo = 5000  #30000 for scores 1,4,5 and 21000 for score 2 since is less than 30000\n",
    "Reviews5 = ReviewsN.loc[ReviewsN['Rating'] == 5].sample(ReviewsNo)\n",
    "Reviews4 = ReviewsN.loc[ReviewsN['Rating'] == 4].sample(ReviewsNo)\n",
    "Reviews2 = ReviewsN.loc[ReviewsN['Rating'] == 2].sample(5000)\n",
    "Reviews1 = ReviewsN.loc[ReviewsN['Rating'] == 1].sample(ReviewsNo)\n",
    "\n",
    "ReviewsF = Reviews1.append([Reviews2, Reviews4, Reviews5])\n",
    "print(len(ReviewsF))"
   ]
  },
  {
   "cell_type": "code",
   "execution_count": 50,
   "metadata": {},
   "outputs": [
    {
     "name": "stdout",
     "output_type": "stream",
     "text": [
      "        ReviewText  CleanReview  WordCount\n",
      "Rating                                    \n",
      "1             4991         5000       5000\n",
      "2             4991         5000       5000\n",
      "4             4995         5000       5000\n",
      "5             4993         5000       5000\n"
     ]
    }
   ],
   "source": [
    "TotalReviewsNo = 20000\n",
    "ReviewsF=ReviewsF.sample(TotalReviewsNo)\n",
    "\n",
    "#Reviews Random group by Score\n",
    "print(ReviewsF.groupby('Rating').count())"
   ]
  },
  {
   "cell_type": "code",
   "execution_count": 51,
   "metadata": {},
   "outputs": [],
   "source": [
    "all_text = ' '.join(ReviewsF['CleanReview'])\n",
    "words = all_text.split()"
   ]
  },
  {
   "cell_type": "code",
   "execution_count": 52,
   "metadata": {},
   "outputs": [
    {
     "name": "stdout",
     "output_type": "stream",
     "text": [
      "Found 29721 unique words tokens.\n"
     ]
    }
   ],
   "source": [
    "word_freq = nltk.FreqDist(words)\n",
    "print (\"Found %d unique words tokens.\" % len(word_freq.items()))"
   ]
  },
  {
   "cell_type": "code",
   "execution_count": 53,
   "metadata": {},
   "outputs": [],
   "source": [
    "from collections import Counter\n",
    "counts = Counter(words)\n",
    "vocab = sorted(counts, key=counts.get, reverse=True)\n",
    "vocab_to_int = {word: ii for ii, word in enumerate(vocab, 1)}"
   ]
  },
  {
   "cell_type": "code",
   "execution_count": 54,
   "metadata": {},
   "outputs": [],
   "source": [
    "reviews_ints = []\n",
    "for each in ReviewsF['CleanReview']:\n",
    "    reviews_ints.append([vocab_to_int[word] for word in each.split()])"
   ]
  },
  {
   "cell_type": "code",
   "execution_count": 55,
   "metadata": {},
   "outputs": [],
   "source": [
    "seq_len = n_steps\n",
    "features = np.zeros((len(reviews_ints), seq_len), dtype=int)\n",
    "\n",
    "for i, row in enumerate(reviews_ints):\n",
    "    if len(row)>0: \n",
    "        features[i, -len(row):] = np.array(row)[:seq_len]"
   ]
  },
  {
   "cell_type": "code",
   "execution_count": 56,
   "metadata": {},
   "outputs": [
    {
     "name": "stdout",
     "output_type": "stream",
     "text": [
      "20000\n",
      "<class 'numpy.ndarray'>\n",
      "[    0     0     0     0     0     0     0     0     0     0     0     0\n",
      "     0     0     0     0     0     0     0     0     0     0     0     0\n",
      "     0     0     0     0     0     0     0     0     0     0     0     0\n",
      "     0     0     0     0     0     0     0     0     0     0     0     0\n",
      "     0     0     0     0     0     0     0     0     0     0     0     0\n",
      "     0     0     0     0     0     0     0     0     0  2346   508 11791\n",
      "  2347   238     3   104     6  4052   215   513    83    43    14     4\n",
      "  8756  2400  2575     1    63    17    89     4   900     6 11792  7244\n",
      "    39  1120     6  5700]\n",
      "100\n",
      "[2346, 508, 11791, 2347, 238, 3, 104, 6, 4052, 215, 513, 83, 43, 14, 4, 8756, 2400, 2575, 1, 63, 17, 89, 4, 900, 6, 11792, 7244, 39, 1120, 6, 5700]\n",
      "31\n"
     ]
    }
   ],
   "source": [
    "#print test row\n",
    "print(len(features))\n",
    "print(type(features))\n",
    "print(features[10])\n",
    "print(len(features[10]))\n",
    "print(reviews_ints[10])\n",
    "print(len(reviews_ints[10]))\n"
   ]
  },
  {
   "cell_type": "code",
   "execution_count": 57,
   "metadata": {},
   "outputs": [],
   "source": [
    "#Convert score to binary - values 1-2 means negative(0), values 4,5 means positive(1)\n",
    "ReviewsF['Score_label']=ReviewsF['Rating'].apply(lambda x: 0 if x < 3 else 1)\n",
    "#labels set as array\n",
    "labels=np.array(ReviewsF['Score_label'])"
   ]
  },
  {
   "cell_type": "code",
   "execution_count": 58,
   "metadata": {},
   "outputs": [
    {
     "name": "stdout",
     "output_type": "stream",
     "text": [
      "\t\t\tFeature Shapes:\n",
      "Train set: \t\t(18000, 100) \n",
      "Validation set: \t(1000, 100) \n",
      "Test set: \t\t(1000, 100)\n",
      "label set: \t\t(18000,) \n",
      "Validation label set: \t(1000,) \n",
      "Test label set: \t\t(1000,)\n"
     ]
    }
   ],
   "source": [
    "split_frac = 0.9\n",
    "\n",
    "split_index = int(split_frac * len(features))\n",
    "\n",
    "train_x, val_x = features[:split_index], features[split_index:] \n",
    "train_y, val_y = labels[:split_index], labels[split_index:]\n",
    "\n",
    "split_frac = 0.5\n",
    "split_index = int(split_frac * len(val_x))\n",
    "\n",
    "val_x, test_x = val_x[:split_index], val_x[split_index:]\n",
    "val_y, test_y = val_y[:split_index], val_y[split_index:]\n",
    "\n",
    "print(\"\\t\\t\\tFeature Shapes:\")\n",
    "print(\"Train set: \\t\\t{}\".format(train_x.shape), \n",
    "      \"\\nValidation set: \\t{}\".format(val_x.shape),\n",
    "      \"\\nTest set: \\t\\t{}\".format(test_x.shape))\n",
    "print(\"label set: \\t\\t{}\".format(train_y.shape), \n",
    "      \"\\nValidation label set: \\t{}\".format(val_y.shape),\n",
    "      \"\\nTest label set: \\t\\t{}\".format(test_y.shape))"
   ]
  },
  {
   "cell_type": "code",
   "execution_count": 59,
   "metadata": {},
   "outputs": [],
   "source": [
    "lstm_size = 256\n",
    "lstm_layers = 2\n",
    "batch_size = 1000\n",
    "learning_rate = 0.01"
   ]
  },
  {
   "cell_type": "code",
   "execution_count": 60,
   "metadata": {},
   "outputs": [],
   "source": [
    "n_words = len(vocab_to_int) + 1 # Add 1 for 0 added to vocab\n",
    "\n",
    "#Create the graph object\n",
    "tf.reset_default_graph()\n",
    "with tf.name_scope('inputs'):\n",
    "    inputs_ = tf.placeholder(tf.int32, [None, None], name=\"inputs\")\n",
    "    labels_ = tf.placeholder(tf.int32, [None, None], name=\"labels\") #labels_ needs to be two-dimensional to work with some functions later\n",
    "    keep_prob = tf.placeholder(tf.float32, name=\"keep_prob\") #keep_prob is a scalar (a 0-dimensional tensor), we shouldn't provide a size\n",
    "    "
   ]
  },
  {
   "cell_type": "code",
   "execution_count": 61,
   "metadata": {},
   "outputs": [],
   "source": [
    "embed_size = 300 # Size of the embedding vectors (number of units in the embedding layer)\n",
    "\n",
    "with tf.name_scope(\"Embeddings\"):\n",
    "    embedding = tf.Variable(tf.random_uniform((n_words, embed_size), -1, 1))\n",
    "    embed = tf.nn.embedding_lookup(embedding, inputs_)\n"
   ]
  },
  {
   "cell_type": "code",
   "execution_count": 62,
   "metadata": {},
   "outputs": [],
   "source": [
    "def lstm_cell():\n",
    "    # Our basic LSTM cell\n",
    "    lstm = tf.contrib.rnn.BasicLSTMCell(lstm_size, reuse=tf.get_variable_scope().reuse)\n",
    "    # Add dropout to the cell\n",
    "    return tf.contrib.rnn.DropoutWrapper(lstm, output_keep_prob=keep_prob)\n",
    "\n",
    "with tf.name_scope(\"RNN_layers\"):\n",
    "    # Stack up multiple LSTM layers, for deep learning\n",
    "    cell = tf.contrib.rnn.MultiRNNCell([lstm_cell() for _ in range(lstm_layers)])\n",
    "    \n",
    "    #[drop] * lstm_layers creates a list of cells (drop) that is lstm_layers long \n",
    "    #The MultiRNNCell wrapper builds this into multiple layers of RNN cells, one for each cell in the list\n",
    "    \n",
    "    # Getting an initial state of all zeros\n",
    "    initial_state = cell.zero_state(batch_size, tf.float32)   "
   ]
  },
  {
   "cell_type": "code",
   "execution_count": 63,
   "metadata": {},
   "outputs": [],
   "source": [
    "with tf.name_scope(\"RNN_forward\"):\n",
    "    outputs, final_state = tf.nn.dynamic_rnn(cell, embed, initial_state=initial_state)"
   ]
  },
  {
   "cell_type": "code",
   "execution_count": 64,
   "metadata": {},
   "outputs": [],
   "source": [
    "with tf.name_scope('predictions'):\n",
    "    predictions = tf.contrib.layers.fully_connected(outputs[:, -1], 1, activation_fn=tf.sigmoid)\n",
    "with tf.name_scope('cost'):\n",
    "    cost = tf.losses.mean_squared_error(labels_, predictions)\n",
    "with tf.name_scope('train'):\n",
    "    optimizer = tf.train.AdamOptimizer(learning_rate).minimize(cost)\n"
   ]
  },
  {
   "cell_type": "code",
   "execution_count": 65,
   "metadata": {},
   "outputs": [],
   "source": [
    "#We add a few nodes to calculate the accuracy which we'll use in the validation pass\n",
    "with tf.name_scope('validation'):\n",
    "    correct_pred = tf.equal(tf.cast(tf.round(predictions), tf.int32), labels_)\n",
    "    accuracy = tf.reduce_mean(tf.cast(correct_pred, tf.float32))"
   ]
  },
  {
   "cell_type": "code",
   "execution_count": 66,
   "metadata": {},
   "outputs": [],
   "source": [
    "######Batching######\n",
    "#This is a simple function for returning batches from our data. \n",
    "#First it removes data such that we only have full batches. \n",
    "#Then it iterates through the x and y arrays and returns slices out of those arrays with size [batch_size].\n",
    "\n",
    "def get_batches(x, y, batch_size):\n",
    "    n_batches = len(x)//batch_size\n",
    "    x, y = x[:n_batches*batch_size], y[:n_batches*batch_size]\n",
    "    for ii in range(0, len(x), batch_size):\n",
    "        yield x[ii:ii+batch_size], y[ii:ii+batch_size]"
   ]
  },
  {
   "cell_type": "code",
   "execution_count": 67,
   "metadata": {},
   "outputs": [],
   "source": [
    "###Training and validation in batches\n",
    "###Once the graph is defined, training can be done in batches based on the batch_size hyper parameter.        \n",
    "\n",
    "n_epochs = 1\n",
    "#batches = len(train_x)//batch_size\n",
    "display_step = 1"
   ]
  },
  {
   "cell_type": "code",
   "execution_count": 68,
   "metadata": {},
   "outputs": [
    {
     "name": "stdout",
     "output_type": "stream",
     "text": [
      "Epoch: 0001 Cost=0.258546889 Train accuracy=0.594388902 Val accuracy=0.777000010\n",
      "Optimization Finished!\n"
     ]
    }
   ],
   "source": [
    "# with graph.as_default():\n",
    "saver = tf.train.Saver()\n",
    "\n",
    "with tf.Session() as sess:\n",
    "    sess.run(tf.global_variables_initializer()) #Initialize all variables\n",
    "    #matrices to store values for charts\n",
    "    epochs = []  #Iterations\n",
    "    costs = []  #Loss\n",
    "    tr_acc = []  #Training Accuracy\n",
    "    val_acc = [] #Val Accuracy\n",
    "    b_cost= [] #Training Bach Cost\n",
    "    b_tr_acc = [] #Training Bach Accuracy\n",
    "    b_te_acc = [] #Val Bach Accuracy\n",
    "       \n",
    "\n",
    "    for e in range(n_epochs):\n",
    "        state = sess.run(initial_state)\n",
    "        for ii, (x, y) in enumerate(get_batches(train_x, train_y, batch_size), 1):\n",
    "            feed = {inputs_: x,\n",
    "                    labels_: y[:, None],\n",
    "                    keep_prob: 0.5,\n",
    "                    initial_state: state}\n",
    "\n",
    "            batch_acc, loss, state, _ = sess.run([accuracy, cost, final_state, optimizer], feed_dict=feed)\n",
    "            b_tr_acc.append(batch_acc)\n",
    "            b_cost.append(loss)\n",
    "            \n",
    "        if (e+1) % display_step == 0:\n",
    "        #calculate val acc\n",
    "            val_state = sess.run(cell.zero_state(batch_size, tf.float32))\n",
    "            for x, y in get_batches(val_x, val_y, batch_size):\n",
    "                feed = {inputs_: x,\n",
    "                        labels_: y[:, None],\n",
    "                        keep_prob: 1,\n",
    "                        initial_state: val_state}\n",
    "                batch_acc, val_state = sess.run([accuracy, final_state], feed_dict=feed)\n",
    "                b_te_acc.append(batch_acc)\n",
    "\n",
    "            print(\"Epoch: \"+str('%04d' % (e+1))+\" Cost=\"+\"{:.9f}\".format(np.mean(b_cost))+\n",
    "                  \" Train accuracy=\"+\"{:.9f}\".format(np.mean(b_tr_acc))+\n",
    "                  \" Val accuracy=\"+\"{:.9f}\".format(np.mean(b_te_acc)))\n",
    "            # add results to matrices at the end of each epoch\n",
    "            epochs.append(e+1)\n",
    "            tr_acc.append(np.mean(b_tr_acc))\n",
    "            val_acc.append(np.mean(b_te_acc))\n",
    "            costs.append(np.mean(b_cost))\n",
    "        \n",
    "        saver.save(sess, './sentiment_model.ckpt')\n",
    "  \n",
    "    print(\"Optimization Finished!\")"
   ]
  },
  {
   "cell_type": "code",
   "execution_count": 69,
   "metadata": {},
   "outputs": [
    {
     "name": "stdout",
     "output_type": "stream",
     "text": [
      "Populating the interactive namespace from numpy and matplotlib\n"
     ]
    },
    {
     "data": {
      "text/plain": [
       "[<matplotlib.lines.Line2D at 0x20c0508ae80>]"
      ]
     },
     "execution_count": 69,
     "metadata": {},
     "output_type": "execute_result"
    },
    {
     "data": {
      "image/png": "[encoded data removed]",
      "text/plain": [
       "<Figure size 1440x432 with 2 Axes>"
      ]
     },
     "metadata": {
      "needs_background": "light"
     },
     "output_type": "display_data"
    }
   ],
   "source": [
    "#####################################################################################################\n",
    "##################### Charts for learning curve and train cost  #####################################\n",
    "#####################################################################################################\n",
    "\n",
    "%matplotlib inline\n",
    "%pylab inline\n",
    "pylab.rcParams['figure.figsize'] = (20, 6)\n",
    "import matplotlib\n",
    "import numpy as np\n",
    "import matplotlib.pyplot as plt\n",
    "\n",
    "fig1 = plt.figure()\n",
    "\n",
    "ax = fig1.add_subplot(121)\n",
    "ax.clear()\n",
    "\n",
    "ax.set_title(\"Learning curve\")\n",
    "ax.set_xlabel('Iterations')\n",
    "ax.set_ylabel('Accuracy')\n",
    "ax.set_ylim([0, 1])\n",
    "ax.plot(epochs, tr_acc,     'o-', color=\"g\", label=\"Train Accuracy\")\n",
    "ax.plot(epochs, val_acc,   'o-', color=\"r\", label=\"Test Accuracy\")\n",
    "\n",
    "ax2 = fig1.add_subplot(122)\n",
    "ax2.clear()\n",
    "\n",
    "ax2.set_title(\"Train cost\")\n",
    "ax2.set_xlabel('Iterations')\n",
    "ax2.set_ylabel('Cost')\n",
    "ax2.set_ylim(ymin=0)\n",
    "ax2.plot(epochs, costs, 'o-', color=\"r\", label=\"Train cost\")"
   ]
  },
  {
   "cell_type": "code",
   "execution_count": 70,
   "metadata": {
    "scrolled": true
   },
   "outputs": [
    {
     "name": "stdout",
     "output_type": "stream",
     "text": [
      "INFO:tensorflow:Restoring parameters from ./sentiment_model.ckpt\n"
     ]
    }
   ],
   "source": [
    "#####################################################################################################\n",
    "#####################   Testing             #########################################################\n",
    "#####################################################################################################    \n",
    "    \n",
    "test_pred = []\n",
    "test_acc = []\n",
    "with tf.Session() as sess:\n",
    "    saver.restore(sess, './sentiment_model.ckpt')\n",
    "    test_state = sess.run(cell.zero_state(batch_size, tf.float32))\n",
    "    for ii, (x, y) in enumerate(get_batches(test_x, test_y, batch_size), 1):\n",
    "        feed = {inputs_: x,\n",
    "                labels_: y[:, None],\n",
    "                keep_prob: 1,\n",
    "                initial_state: test_state}\n",
    "        batch_acc, test_state = sess.run([accuracy, final_state], feed_dict=feed)\n",
    "        test_acc.append(batch_acc)\n",
    "        \n",
    "        prediction = tf.cast(tf.round(predictions),tf.int32)\n",
    "        prediction = sess.run(prediction,feed_dict=feed)\n",
    "        test_pred.append(prediction)"
   ]
  },
  {
   "cell_type": "code",
   "execution_count": 85,
   "metadata": {},
   "outputs": [],
   "source": [
    "df_test = pd.read_csv('test1_generic_reviews.csv', sep=\",\", encoding=\"utf-8\", quotechar='\"')\n",
    "df_test = df_test[~df_test['ReviewText'].isnull()]"
   ]
  },
  {
   "cell_type": "code",
   "execution_count": 75,
   "metadata": {
    "scrolled": true
   },
   "outputs": [
    {
     "name": "stdout",
     "output_type": "stream",
     "text": [
      "Wall time: 431 ms\n"
     ]
    }
   ],
   "source": [
    "%%time\n",
    "df_validation_set1 = pd.read_csv('test1_generic_reviews.csv', sep=\",\", encoding=\"utf-8\", quotechar='\"', index_col=0)\n",
    "df_validation_set2 = pd.read_csv('testB_dell_reviews.csv', sep=\",\", encoding=\"utf-8\", quotechar='\"', index_col=0)"
   ]
  },
  {
   "cell_type": "code",
   "execution_count": 76,
   "metadata": {},
   "outputs": [],
   "source": [
    "df_validation_set1['ReviewText'].fillna('', inplace=True)\n",
    "df_validation_set2['ReviewText'].fillna('', inplace=True)"
   ]
  },
  {
   "cell_type": "code",
   "execution_count": null,
   "metadata": {},
   "outputs": [],
   "source": [
    "predicted1 = clf.predict(X_validation1)\n",
    "predicted2 = clf.predict(X_validation2)"
   ]
  },
  {
   "cell_type": "code",
   "execution_count": null,
   "metadata": {},
   "outputs": [],
   "source": []
  },
  {
   "cell_type": "code",
   "execution_count": null,
   "metadata": {},
   "outputs": [],
   "source": []
  },
  {
   "cell_type": "code",
   "execution_count": 72,
   "metadata": {},
   "outputs": [
    {
     "data": {
      "text/html": [
       "<div>\n",
       "<style scoped>\n",
       "    .dataframe tbody tr th:only-of-type {\n",
       "        vertical-align: middle;\n",
       "    }\n",
       "\n",
       "    .dataframe tbody tr th {\n",
       "        vertical-align: top;\n",
       "    }\n",
       "\n",
       "    .dataframe thead th {\n",
       "        text-align: right;\n",
       "    }\n",
       "</style>\n",
       "<table border=\"1\" class=\"dataframe\">\n",
       "  <thead>\n",
       "    <tr style=\"text-align: right;\">\n",
       "      <th></th>\n",
       "      <th>id</th>\n",
       "      <th>ReviewText</th>\n",
       "    </tr>\n",
       "  </thead>\n",
       "  <tbody>\n",
       "    <tr>\n",
       "      <th>0</th>\n",
       "      <td>0</td>\n",
       "      <td>Yesterday I spent over an hour playing with a ...</td>\n",
       "    </tr>\n",
       "    <tr>\n",
       "      <th>1</th>\n",
       "      <td>1</td>\n",
       "      <td>I was looking for a light weight cable to go f...</td>\n",
       "    </tr>\n",
       "    <tr>\n",
       "      <th>2</th>\n",
       "      <td>2</td>\n",
       "      <td>There appears to be an engineering flaw in the...</td>\n",
       "    </tr>\n",
       "    <tr>\n",
       "      <th>3</th>\n",
       "      <td>3</td>\n",
       "      <td>They aren't wide-angle as advertised. They don...</td>\n",
       "    </tr>\n",
       "    <tr>\n",
       "      <th>4</th>\n",
       "      <td>4</td>\n",
       "      <td>The angled picture of the ends of this cable m...</td>\n",
       "    </tr>\n",
       "  </tbody>\n",
       "</table>\n",
       "</div>"
      ],
      "text/plain": [
       "   id                                         ReviewText\n",
       "0   0  Yesterday I spent over an hour playing with a ...\n",
       "1   1  I was looking for a light weight cable to go f...\n",
       "2   2  There appears to be an engineering flaw in the...\n",
       "3   3  They aren't wide-angle as advertised. They don...\n",
       "4   4  The angled picture of the ends of this cable m..."
      ]
     },
     "execution_count": 72,
     "metadata": {},
     "output_type": "execute_result"
    }
   ],
   "source": [
    "df_test.head()"
   ]
  },
  {
   "cell_type": "code",
   "execution_count": 82,
   "metadata": {},
   "outputs": [
    {
     "name": "stdout",
     "output_type": "stream",
     "text": [
      "Test accuracy: 0.759\n",
      "Confusion Matrix\n",
      "----------------\n"
     ]
    }
   ],
   "source": [
    "#####################################################################################################\n",
    "#####################   Results             #########################################################\n",
    "#####################################################################################################    \n",
    "\n",
    "##############Confusion Matrix######################    \n",
    "test_pred_flat = (np.array(test_pred)).flatten()\n",
    "#y_act = pd.Series(test_y, name='ReviewText')\n",
    "#y_pred = pd.Series(df_test, name='ReviewText')\n",
    "#df_confusion = pd.crosstab( y_pred, margins=True)\n",
    "\n",
    "print(\"Test accuracy: {:.3f}\".format(np.mean(test_acc)))  \n",
    "print(\"Confusion Matrix\")\n",
    "print(\"----------------\")\n",
    "#print(df_confusion)\n",
    "    "
   ]
  },
  {
   "cell_type": "code",
   "execution_count": 91,
   "metadata": {
    "scrolled": true
   },
   "outputs": [
    {
     "data": {
      "text/plain": [
       "array([1, 1, 1, 0, 1, 1, 1, 1, 0, 0, 1, 0, 0, 1, 0, 0, 0, 1, 0, 0, 1, 0,\n",
       "       1, 0, 0, 1, 1, 1, 1, 1, 0, 1, 0, 1, 0, 0, 0, 1, 0, 0, 0, 0, 0, 0,\n",
       "       1, 1, 1, 1, 0, 0, 0, 0, 1, 1, 1, 0, 0, 1, 0, 1, 0, 0, 1, 0, 1, 0,\n",
       "       0, 0, 0, 0, 1, 1, 0, 0, 1, 1, 0, 0, 0, 0, 0, 1, 1, 0, 0, 0, 1, 0,\n",
       "       0, 1, 0, 0, 1, 1, 1, 1, 0, 0, 0, 1, 0, 0, 0, 1, 0, 0, 0, 1, 0, 1,\n",
       "       1, 0, 0, 1, 0, 0, 1, 0, 0, 0, 1, 0, 1, 0, 1, 1, 0, 1, 0, 1, 0, 0,\n",
       "       0, 0, 0, 1, 1, 1, 1, 0, 1, 0, 1, 1, 0, 0, 0, 1, 0, 0, 1, 0, 0, 1,\n",
       "       1, 0, 0, 0, 0, 0, 1, 0, 0, 0, 1, 0, 0, 1, 1, 0, 1, 0, 0, 1, 1, 0,\n",
       "       0, 0, 1, 1, 0, 0, 1, 0, 0, 1, 0, 1, 0, 0, 0, 1, 0, 0, 0, 1, 0, 0,\n",
       "       0, 0, 0, 0, 1, 0, 1, 0, 1, 0, 0, 0, 1, 0, 0, 1, 0, 1, 0, 1, 1, 1,\n",
       "       1, 0, 0, 1, 1, 1, 0, 0, 1, 0, 1, 0, 1, 1, 1, 1, 0, 1, 0, 0, 0, 1,\n",
       "       0, 1, 0, 1, 1, 0, 1, 1, 1, 0, 1, 0, 0, 0, 0, 0, 0, 0, 1, 1, 0, 1,\n",
       "       0, 1, 0, 1, 0, 1, 0, 1, 1, 1, 0, 0, 1, 0, 1, 0, 0, 0, 0, 0, 0, 1,\n",
       "       1, 1, 0, 0, 1, 0, 0, 0, 1, 1, 1, 0, 0, 0, 1, 0, 1, 1, 1, 0, 0, 0,\n",
       "       0, 1, 0, 0, 1, 1, 1, 1, 0, 0, 0, 1, 1, 1, 0, 1, 1, 0, 1, 0, 1, 1,\n",
       "       1, 1, 1, 1, 0, 1, 0, 1, 1, 1, 1, 1, 1, 0, 0, 0, 1, 1, 1, 1, 1, 1,\n",
       "       1, 0, 1, 1, 0, 0, 0, 0, 1, 0, 0, 0, 1, 1, 0, 1, 0, 1, 0, 0, 1, 1,\n",
       "       0, 1, 0, 1, 0, 0, 1, 1, 1, 0, 1, 0, 0, 1, 0, 0, 1, 1, 0, 0, 1, 0,\n",
       "       0, 0, 1, 1, 1, 0, 1, 0, 0, 0, 1, 0, 1, 0, 1, 0, 0, 1, 0, 1, 1, 1,\n",
       "       0, 0, 1, 0, 0, 1, 0, 0, 0, 1, 1, 1, 0, 0, 0, 0, 0, 1, 1, 0, 1, 1,\n",
       "       1, 1, 0, 0, 1, 0, 0, 0, 0, 0, 0, 1, 1, 0, 0, 1, 0, 0, 1, 1, 0, 0,\n",
       "       0, 0, 1, 1, 1, 0, 1, 0, 0, 1, 1, 0, 0, 0, 0, 0, 1, 1, 1, 0, 1, 1,\n",
       "       0, 0, 1, 0, 1, 0, 0, 0, 1, 0, 1, 0, 1, 1, 1, 1, 1, 0, 0, 1, 1, 1,\n",
       "       1, 0, 0, 0, 1, 1, 0, 0, 0, 1, 0, 1, 1, 1, 0, 0, 1, 0, 0, 0, 1, 1,\n",
       "       0, 0, 1, 1, 1, 0, 0, 0, 0, 1, 1, 0, 0, 0, 0, 0, 1, 0, 0, 1, 0, 1,\n",
       "       1, 1, 0, 1, 1, 0, 1, 1, 1, 1, 0, 0, 0, 0, 1, 0, 0, 1, 0, 0, 1, 1,\n",
       "       0, 0, 0, 0, 0, 1, 0, 0, 1, 0, 1, 0, 0, 0, 0, 1, 0, 1, 0, 0, 1, 1,\n",
       "       1, 0, 0, 1, 0, 1, 0, 0, 1, 0, 1, 0, 1, 0, 0, 0, 0, 0, 1, 1, 1, 1,\n",
       "       1, 0, 0, 0, 1, 1, 0, 1, 1, 0, 0, 0, 1, 0, 1, 1, 1, 0, 1, 1, 1, 0,\n",
       "       1, 1, 1, 0, 0, 0, 1, 0, 0, 0, 1, 0, 0, 0, 1, 1, 0, 0, 1, 0, 0, 0,\n",
       "       0, 0, 0, 0, 1, 1, 0, 0, 0, 1, 0, 0, 0, 0, 1, 1, 0, 0, 1, 0, 0, 0,\n",
       "       1, 0, 1, 1, 1, 0, 1, 0, 1, 0, 0, 1, 1, 0, 0, 0, 0, 1, 0, 0, 0, 1,\n",
       "       1, 1, 0, 0, 0, 0, 0, 1, 0, 0, 0, 0, 1, 0, 0, 1, 1, 1, 0, 1, 0, 1,\n",
       "       0, 0, 1, 0, 0, 0, 0, 0, 1, 1, 0, 0, 1, 1, 1, 0, 1, 1, 1, 0, 1, 1,\n",
       "       1, 1, 1, 0, 1, 1, 0, 1, 0, 1, 0, 1, 0, 1, 0, 1, 0, 1, 1, 0, 1, 0,\n",
       "       0, 1, 0, 0, 1, 0, 0, 1, 0, 1, 1, 0, 1, 0, 0, 0, 1, 1, 0, 1, 0, 1,\n",
       "       1, 1, 0, 0, 1, 1, 1, 0, 1, 1, 0, 0, 0, 1, 1, 0, 0, 0, 1, 0, 1, 1,\n",
       "       0, 0, 0, 0, 0, 0, 1, 0, 1, 0, 0, 0, 0, 1, 0, 0, 1, 0, 0, 1, 0, 1,\n",
       "       0, 0, 1, 1, 1, 1, 1, 1, 1, 0, 0, 1, 1, 0, 1, 1, 0, 0, 0, 1, 0, 0,\n",
       "       1, 0, 1, 0, 0, 0, 0, 0, 0, 0, 1, 1, 1, 0, 1, 0, 0, 0, 1, 0, 0, 1,\n",
       "       1, 0, 1, 0, 0, 0, 0, 0, 1, 0, 1, 0, 1, 0, 1, 0, 0, 0, 0, 0, 0, 0,\n",
       "       0, 0, 0, 1, 1, 1, 0, 0, 1, 0, 0, 1, 1, 1, 0, 1, 1, 1, 0, 1, 1, 0,\n",
       "       0, 0, 1, 0, 1, 0, 1, 0, 1, 0, 1, 0, 1, 0, 0, 0, 1, 0, 0, 1, 0, 0,\n",
       "       1, 0, 0, 1, 0, 1, 1, 0, 0, 0, 1, 1, 1, 1, 0, 0, 0, 0, 0, 0, 1, 1,\n",
       "       1, 1, 1, 1, 0, 0, 1, 1, 0, 1, 1, 0, 0, 1, 0, 1, 1, 1, 0, 1, 0, 1,\n",
       "       0, 1, 1, 1, 1, 0, 0, 0, 0, 0])"
      ]
     },
     "execution_count": 91,
     "metadata": {},
     "output_type": "execute_result"
    }
   ],
   "source": [
    "test_pred_flat"
   ]
  },
  {
   "cell_type": "code",
   "execution_count": 93,
   "metadata": {
    "scrolled": true
   },
   "outputs": [
    {
     "name": "stderr",
     "output_type": "stream",
     "text": [
      "C:\\Users\\nagorb\\AppData\\Local\\Continuum\\anaconda3\\lib\\site-packages\\ipykernel_launcher.py:7: SettingWithCopyWarning: \n",
      "A value is trying to be set on a copy of a slice from a DataFrame.\n",
      "Try using .loc[row_indexer,col_indexer] = value instead\n",
      "\n",
      "See the caveats in the documentation: http://pandas.pydata.org/pandas-docs/stable/indexing.html#indexing-view-versus-copy\n",
      "  import sys\n"
     ]
    }
   ],
   "source": [
    "##############Review Text for Testing Results######################    \n",
    "#Take Reviews for test set\n",
    "start_idx = len(df_test) \n",
    "end_idx = start_idx + len(test_pred_flat)\n",
    "ReviewsTest=df_test.iloc[start_idx:end_idx]\n",
    "#Add Predicted Sentiment in a new column\n",
    "ReviewsTest['Predicted_Sentiment']= test_pred_flat\n",
    "\n",
    "#Examples of False Negative Results\n",
    "#ReviewsTest[(ReviewsTest['Score_label'] == 1) & (ReviewsTest['Predicted_Sentiment'] == 0 )].iloc[1:10]    \n",
    "#Examples of False Positive Results\n",
    "#ReviewsTest[(ReviewsTest['Score_label'] == 0) & (ReviewsTest['Predicted_Sentiment'] == 1 )].iloc[1:10]    \n"
   ]
  },
  {
   "cell_type": "code",
   "execution_count": 84,
   "metadata": {},
   "outputs": [
    {
     "name": "stderr",
     "output_type": "stream",
     "text": [
      "C:\\Users\\nagorb\\AppData\\Local\\Continuum\\anaconda3\\lib\\site-packages\\ipykernel_launcher.py:7: SettingWithCopyWarning: \n",
      "A value is trying to be set on a copy of a slice from a DataFrame.\n",
      "Try using .loc[row_indexer,col_indexer] = value instead\n",
      "\n",
      "See the caveats in the documentation: http://pandas.pydata.org/pandas-docs/stable/indexing.html#indexing-view-versus-copy\n",
      "  import sys\n"
     ]
    },
    {
     "data": {
      "text/html": [
       "<div>\n",
       "<style scoped>\n",
       "    .dataframe tbody tr th:only-of-type {\n",
       "        vertical-align: middle;\n",
       "    }\n",
       "\n",
       "    .dataframe tbody tr th {\n",
       "        vertical-align: top;\n",
       "    }\n",
       "\n",
       "    .dataframe thead th {\n",
       "        text-align: right;\n",
       "    }\n",
       "</style>\n",
       "<table border=\"1\" class=\"dataframe\">\n",
       "  <thead>\n",
       "    <tr style=\"text-align: right;\">\n",
       "      <th></th>\n",
       "      <th>ReviewText</th>\n",
       "      <th>Rating</th>\n",
       "      <th>CleanReview</th>\n",
       "      <th>WordCount</th>\n",
       "      <th>Score_label</th>\n",
       "      <th>Predicted_Sentiment</th>\n",
       "    </tr>\n",
       "  </thead>\n",
       "  <tbody>\n",
       "    <tr>\n",
       "      <th>643867</th>\n",
       "      <td>I ordered these mainly because my wife was com...</td>\n",
       "      <td>1</td>\n",
       "      <td>i ordered these mainly because my wife was com...</td>\n",
       "      <td>84</td>\n",
       "      <td>0</td>\n",
       "      <td>1</td>\n",
       "    </tr>\n",
       "    <tr>\n",
       "      <th>1223674</th>\n",
       "      <td>I don't understand if I got the wrong size or ...</td>\n",
       "      <td>2</td>\n",
       "      <td>i dont understand if i got the wrong size or i...</td>\n",
       "      <td>60</td>\n",
       "      <td>0</td>\n",
       "      <td>1</td>\n",
       "    </tr>\n",
       "    <tr>\n",
       "      <th>933420</th>\n",
       "      <td>Does not work.</td>\n",
       "      <td>2</td>\n",
       "      <td>does not work</td>\n",
       "      <td>3</td>\n",
       "      <td>0</td>\n",
       "      <td>1</td>\n",
       "    </tr>\n",
       "    <tr>\n",
       "      <th>1424735</th>\n",
       "      <td>This item is good if you don't mind it losing ...</td>\n",
       "      <td>2</td>\n",
       "      <td>this item is good if you dont mind it losing a...</td>\n",
       "      <td>74</td>\n",
       "      <td>0</td>\n",
       "      <td>1</td>\n",
       "    </tr>\n",
       "    <tr>\n",
       "      <th>999395</th>\n",
       "      <td>I just bought a Compact System Camera and thou...</td>\n",
       "      <td>2</td>\n",
       "      <td>i just bought a compact system camera and thou...</td>\n",
       "      <td>76</td>\n",
       "      <td>0</td>\n",
       "      <td>1</td>\n",
       "    </tr>\n",
       "    <tr>\n",
       "      <th>690540</th>\n",
       "      <td>I did not expect that these speakers would be ...</td>\n",
       "      <td>2</td>\n",
       "      <td>i did not expect that these speakers would be ...</td>\n",
       "      <td>65</td>\n",
       "      <td>0</td>\n",
       "      <td>1</td>\n",
       "    </tr>\n",
       "    <tr>\n",
       "      <th>58725</th>\n",
       "      <td>We returned them.  They are very heavy, you ca...</td>\n",
       "      <td>2</td>\n",
       "      <td>we returned them  they are very heavy you cant...</td>\n",
       "      <td>25</td>\n",
       "      <td>0</td>\n",
       "      <td>1</td>\n",
       "    </tr>\n",
       "    <tr>\n",
       "      <th>1050653</th>\n",
       "      <td>I was searching for a laptop power adapter for...</td>\n",
       "      <td>1</td>\n",
       "      <td>i was searching for a laptop power adapter for...</td>\n",
       "      <td>75</td>\n",
       "      <td>0</td>\n",
       "      <td>1</td>\n",
       "    </tr>\n",
       "    <tr>\n",
       "      <th>1608126</th>\n",
       "      <td>The way of operating is not ideal, you need to...</td>\n",
       "      <td>2</td>\n",
       "      <td>the way of operating is not ideal you need to ...</td>\n",
       "      <td>69</td>\n",
       "      <td>0</td>\n",
       "      <td>1</td>\n",
       "    </tr>\n",
       "  </tbody>\n",
       "</table>\n",
       "</div>"
      ],
      "text/plain": [
       "                                                ReviewText  Rating  \\\n",
       "643867   I ordered these mainly because my wife was com...       1   \n",
       "1223674  I don't understand if I got the wrong size or ...       2   \n",
       "933420                                      Does not work.       2   \n",
       "1424735  This item is good if you don't mind it losing ...       2   \n",
       "999395   I just bought a Compact System Camera and thou...       2   \n",
       "690540   I did not expect that these speakers would be ...       2   \n",
       "58725    We returned them.  They are very heavy, you ca...       2   \n",
       "1050653  I was searching for a laptop power adapter for...       1   \n",
       "1608126  The way of operating is not ideal, you need to...       2   \n",
       "\n",
       "                                               CleanReview  WordCount  \\\n",
       "643867   i ordered these mainly because my wife was com...         84   \n",
       "1223674  i dont understand if i got the wrong size or i...         60   \n",
       "933420                                       does not work          3   \n",
       "1424735  this item is good if you dont mind it losing a...         74   \n",
       "999395   i just bought a compact system camera and thou...         76   \n",
       "690540   i did not expect that these speakers would be ...         65   \n",
       "58725    we returned them  they are very heavy you cant...         25   \n",
       "1050653  i was searching for a laptop power adapter for...         75   \n",
       "1608126  the way of operating is not ideal you need to ...         69   \n",
       "\n",
       "         Score_label  Predicted_Sentiment  \n",
       "643867             0                    1  \n",
       "1223674            0                    1  \n",
       "933420             0                    1  \n",
       "1424735            0                    1  \n",
       "999395             0                    1  \n",
       "690540             0                    1  \n",
       "58725              0                    1  \n",
       "1050653            0                    1  \n",
       "1608126            0                    1  "
      ]
     },
     "execution_count": 84,
     "metadata": {},
     "output_type": "execute_result"
    }
   ],
   "source": [
    "##############Review Text for Testing Results######################    \n",
    "#Take Reviews for test set\n",
    "start_idx = len(df_test) + len(val_x)\n",
    "end_idx = start_idx + len(test_pred_flat)\n",
    "ReviewsTest=ReviewsF.iloc[start_idx:end_idx]\n",
    "#Add Predicted Sentiment in a new column\n",
    "ReviewsTest['Predicted_Sentiment']= test_pred_flat\n",
    "\n",
    "#Examples of False Negative Results\n",
    "ReviewsTest[(ReviewsTest['Score_label'] == 1) & (ReviewsTest['Predicted_Sentiment'] == 0 )].iloc[1:10]    \n",
    "#Examples of False Positive Results\n",
    "ReviewsTest[(ReviewsTest['Score_label'] == 0) & (ReviewsTest['Predicted_Sentiment'] == 1 )].iloc[1:10]    \n"
   ]
  },
  {
   "cell_type": "code",
   "execution_count": null,
   "metadata": {},
   "outputs": [],
   "source": []
  }
 ],
 "metadata": {
  "kernelspec": {
   "display_name": "Python 3",
   "language": "python",
   "name": "python3"
  },
  "language_info": {
   "codemirror_mode": {
    "name": "ipython",
    "version": 3
   },
   "file_extension": ".py",
   "mimetype": "text/x-python",
   "name": "python",
   "nbconvert_exporter": "python",
   "pygments_lexer": "ipython3",
   "version": "3.7.1"
  }
 },
 "nbformat": 4,
 "nbformat_minor": 2
}
